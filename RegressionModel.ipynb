{
  "nbformat": 4,
  "nbformat_minor": 0,
  "metadata": {
    "colab": {
      "provenance": [],
      "authorship_tag": "ABX9TyP7G+ie0/THo+7/OSeX36G3",
      "include_colab_link": true
    },
    "kernelspec": {
      "name": "python3",
      "display_name": "Python 3"
    },
    "language_info": {
      "name": "python"
    }
  },
  "cells": [
    {
      "cell_type": "markdown",
      "metadata": {
        "id": "view-in-github",
        "colab_type": "text"
      },
      "source": [
        "<a href=\"https://colab.research.google.com/github/11vedant/Python-Programming-MCA/blob/main/RegressionModel.ipynb\" target=\"_parent\"><img src=\"https://colab.research.google.com/assets/colab-badge.svg\" alt=\"Open In Colab\"/></a>"
      ]
    },
    {
      "cell_type": "code",
      "execution_count": null,
      "metadata": {
        "id": "B2LHvnZZNjc4"
      },
      "outputs": [],
      "source": [
        "import numpy as np\n",
        "import pandas as pd\n",
        "import matplotlib.pyplot as plt\n",
        "from sklearn.datasets import make_regression\n",
        "from sklearn.model_selection import train_test_split\n",
        "from sklearn.linear_model import Lasso, Ridge\n",
        "from sklearn.metrics import mean_squared_error"
      ]
    },
    {
      "cell_type": "code",
      "source": [
        "#Create Synthetic data\n",
        "X, y =make_regression(n_samples = 100, n_features=20, noise = 0.1)"
      ],
      "metadata": {
        "id": "OQf_aTvuNrHI"
      },
      "execution_count": null,
      "outputs": []
    },
    {
      "cell_type": "code",
      "source": [
        "#Split the data into training and testing sets\n",
        "X_train, X_test, y_train, y_test = train_test_split(X,y, test_size =0.2, random_state=42)"
      ],
      "metadata": {
        "id": "DNjKG7e3OCWn"
      },
      "execution_count": null,
      "outputs": []
    },
    {
      "cell_type": "code",
      "source": [
        "#Train a standard linear regression model\n",
        "from sklearn.linear_model import LinearRegression\n",
        "linear_model = LinearRegression()\n",
        "linear_model.fit(X_train, y_train)\n",
        "y_pred_linear = linear_model.predict(X_test)"
      ],
      "metadata": {
        "id": "OC-CRIccO1kk"
      },
      "execution_count": null,
      "outputs": []
    },
    {
      "cell_type": "code",
      "source": [
        "#Train a Lasso regression model\n",
        "lasso_model = Lasso(alpha=1.0)#Adjust alpha for regularization strength\n",
        "lasso_model.fit(X_train, y_train)\n",
        "y_pred_lasso = lasso_model.predict(X_test)\n",
        "\n"
      ],
      "metadata": {
        "id": "PtOt5RFhO1cq"
      },
      "execution_count": null,
      "outputs": []
    },
    {
      "cell_type": "code",
      "source": [
        "#Train a Ridge regression model\n",
        "ridge_model = Ridge(alpha=0.1) #adjuct alpha for regularization strength\n",
        "ridge_model.fit(X_train, y_train)\n",
        "y_pred_ridge = ridge_model.predict(X_test)\n"
      ],
      "metadata": {
        "id": "jWUQSWKGaxTJ"
      },
      "execution_count": null,
      "outputs": []
    },
    {
      "cell_type": "code",
      "source": [
        "#Calculte Mean Squared error for each model\n",
        "mse_linear = mean_squared_error(y_test, y_pred_linear)\n",
        "mse_lasso = mean_squared_error(y_test, y_pred_lasso)\n",
        "mse_ridge = mean_squared_error(y_test, y_pred_ridge)\n",
        "\n",
        "\n"
      ],
      "metadata": {
        "id": "KfkH6JF1bYa2"
      },
      "execution_count": null,
      "outputs": []
    },
    {
      "cell_type": "code",
      "source": [
        "#Print results\n",
        "print(\"Linear regressison error\", mse_linear)\n",
        "print(\"Lasso regression error\", mse_lasso)\n",
        "print(\"Ridge regression error\", mse_ridge)\n"
      ],
      "metadata": {
        "colab": {
          "base_uri": "https://localhost:8080/"
        },
        "id": "voiitgI-ejBC",
        "outputId": "40908fdb-5ca8-4f60-9fda-0d826d5a045c"
      },
      "execution_count": null,
      "outputs": [
        {
          "output_type": "stream",
          "name": "stdout",
          "text": [
            "Linear regressison error 0.008948447635584311\n",
            "Lasso regression error 10.191077222361942\n",
            "Ridge regression error 0.06874696079708498\n"
          ]
        }
      ]
    },
    {
      "cell_type": "code",
      "source": [
        "#plot coefficients to compare\n",
        "plt.figure(figsize=(12,6))\n",
        "plt.subplot(1, 3, 1)\n",
        "plt.bar(range(len(linear_model.coef_)),linear_model.coef_)\n",
        "plt.title('Linear Regression Coefficients')\n",
        "\n",
        "plt.subplot(1, 3, 3)\n",
        "plt.bar(range(len(ridge_model.coef_)), ridge_model.coef_)\n",
        "plt.title('Ridge Resgression Coefficients')\n",
        "\n",
        "plt.subplot(1, 3, 2)\n",
        "plt.bar(range(len(linear_model.coef_)), lasso_model.coef_)\n",
        "plt.title('Lasso Regression Coefficents')\n",
        "\n",
        "plt.tight_layout()\n",
        "plt.show()"
      ],
      "metadata": {
        "colab": {
          "base_uri": "https://localhost:8080/",
          "height": 362
        },
        "id": "6L2MEKk4fP3f",
        "outputId": "5105fc53-c181-4555-fc1b-699d8592e23f"
      },
      "execution_count": null,
      "outputs": [
        {
          "output_type": "display_data",
          "data": {
            "text/plain": [
              "<Figure size 1200x600 with 3 Axes>"
            ],
            "image/png": "[encoded data removed]"
          },
          "metadata": {}
        }
      ]
    }
  ]
}